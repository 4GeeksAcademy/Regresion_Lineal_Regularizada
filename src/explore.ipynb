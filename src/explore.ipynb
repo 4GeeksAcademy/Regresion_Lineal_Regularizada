{
    "cells": [
        {
            "cell_type": "markdown",
            "metadata": {},
            "source": [
                "# Explore here"
            ]
        },
        {
            "cell_type": "code",
            "execution_count": null,
            "metadata": {},
            "outputs": [],
            "source": [
                "Importar Dataset"
            ]
        },
        {
            "cell_type": "code",
            "execution_count": 4,
            "metadata": {},
            "outputs": [
                {
                    "name": "stdout",
                    "output_type": "stream",
                    "text": [
                        "<class 'pandas.core.frame.DataFrame'>\n",
                        "RangeIndex: 3140 entries, 0 to 3139\n",
                        "Columns: 108 entries, fips to Urban_rural_code\n",
                        "dtypes: float64(61), int64(45), object(2)\n",
                        "memory usage: 2.6+ MB\n"
                    ]
                },
                {
                    "data": {
                        "text/plain": [
                            "(   fips  TOT_POP    0-9  0-9 y/o % of total pop  19-Oct  \\\n",
                            " 0  1001    55601   6787               12.206615    7637   \n",
                            " 1  1003   218022  24757               11.355276   26913   \n",
                            " 2  1005    24881   2732               10.980266    2960   \n",
                            " 3  1007    22400   2456               10.964286    2596   \n",
                            " 4  1009    57840   7095               12.266598    7570   \n",
                            " \n",
                            "    10-19 y/o % of total pop  20-29  20-29 y/o % of total pop  30-39  \\\n",
                            " 0                 13.735364   6878                 12.370281   7089   \n",
                            " 1                 12.344167  23579                 10.814964  25213   \n",
                            " 2                 11.896628   3268                 13.134520   3201   \n",
                            " 3                 11.589286   3029                 13.522321   3113   \n",
                            " 4                 13.087828   6742                 11.656293   6884   \n",
                            " \n",
                            "    30-39 y/o % of total pop  ...  COPD_number  diabetes_prevalence  \\\n",
                            " 0                 12.749771  ...         3644                 12.9   \n",
                            " 1                 11.564429  ...        14692                 12.0   \n",
                            " 2                 12.865239  ...         2373                 19.7   \n",
                            " 3                 13.897321  ...         1789                 14.1   \n",
                            " 4                 11.901798  ...         4661                 13.5   \n",
                            " \n",
                            "    diabetes_Lower 95% CI  diabetes_Upper 95% CI  diabetes_number  \\\n",
                            " 0                   11.9                   13.8             5462   \n",
                            " 1                   11.0                   13.1            20520   \n",
                            " 2                   18.6                   20.6             3870   \n",
                            " 3                   13.2                   14.9             2511   \n",
                            " 4                   12.6                   14.5             6017   \n",
                            " \n",
                            "    CKD_prevalence  CKD_Lower 95% CI  CKD_Upper 95% CI  CKD_number  \\\n",
                            " 0             3.1               2.9               3.3        1326   \n",
                            " 1             3.2               3.0               3.5        5479   \n",
                            " 2             4.5               4.2               4.8         887   \n",
                            " 3             3.3               3.1               3.6         595   \n",
                            " 4             3.4               3.2               3.7        1507   \n",
                            " \n",
                            "    Urban_rural_code  \n",
                            " 0                 3  \n",
                            " 1                 4  \n",
                            " 2                 6  \n",
                            " 3                 2  \n",
                            " 4                 2  \n",
                            " \n",
                            " [5 rows x 108 columns],\n",
                            " None,\n",
                            "                fips       TOT_POP           0-9  0-9 y/o % of total pop  \\\n",
                            " count   3140.000000  3.140000e+03  3.140000e+03             3140.000000   \n",
                            " mean   30401.640764  1.041894e+05  1.274030e+04               11.871051   \n",
                            " std    15150.559265  3.335834e+05  4.180730e+04                2.124081   \n",
                            " min     1001.000000  8.800000e+01  0.000000e+00                0.000000   \n",
                            " 25%    18180.500000  1.096325e+04  1.280500e+03               10.594639   \n",
                            " 50%    29178.000000  2.580050e+04  3.057000e+03               11.802727   \n",
                            " 75%    45081.500000  6.791300e+04  8.097000e+03               12.951840   \n",
                            " max    56045.000000  1.010552e+07  1.208253e+06               25.460677   \n",
                            " \n",
                            "              19-Oct  10-19 y/o % of total pop         20-29  \\\n",
                            " count  3.140000e+03               3140.000000  3.140000e+03   \n",
                            " mean   1.336798e+04                 12.694609  1.446933e+04   \n",
                            " std    4.228439e+04                  1.815044  4.957773e+04   \n",
                            " min    0.000000e+00                  0.000000  0.000000e+00   \n",
                            " 25%    1.374500e+03                 11.674504  1.263750e+03   \n",
                            " 50%    3.274000e+03                 12.687422  3.108000e+03   \n",
                            " 75%    8.822250e+03                 13.659282  8.976250e+03   \n",
                            " max    1.239139e+06                 23.304372  1.557073e+06   \n",
                            " \n",
                            "        20-29 y/o % of total pop         30-39  30-39 y/o % of total pop  ...  \\\n",
                            " count               3140.000000  3.140000e+03               3140.000000  ...   \n",
                            " mean                  12.283979  1.391649e+04                 11.751535  ...   \n",
                            " std                    3.126297  4.899095e+04                  1.696599  ...   \n",
                            " min                    0.000000  1.100000e+01                  6.092789  ...   \n",
                            " 25%                   10.496774  1.232750e+03                 10.689322  ...   \n",
                            " 50%                   11.772649  3.000500e+03                 11.580861  ...   \n",
                            " 75%                   13.182260  8.314250e+03                 12.639379  ...   \n",
                            " max                   37.570198  1.501844e+06                 22.225129  ...   \n",
                            " \n",
                            "          COPD_number  diabetes_prevalence  diabetes_Lower 95% CI  \\\n",
                            " count    3140.000000          3140.000000            3140.000000   \n",
                            " mean     5827.242357            13.073503              12.088089   \n",
                            " std     15720.551934             2.724351               2.622948   \n",
                            " min         7.000000             6.100000               5.500000   \n",
                            " 25%       815.000000            11.200000              10.300000   \n",
                            " 50%      1963.500000            12.800000              11.800000   \n",
                            " 75%      4727.000000            14.800000              13.700000   \n",
                            " max    434075.000000            25.600000              24.200000   \n",
                            " \n",
                            "        diabetes_Upper 95% CI  diabetes_number  CKD_prevalence  \\\n",
                            " count            3140.000000      3140.000000     3140.000000   \n",
                            " mean               14.053726      9326.577707        3.446242   \n",
                            " std                 2.824828     29754.601185        0.568059   \n",
                            " min                 6.700000        11.000000        1.800000   \n",
                            " 25%                12.100000      1187.750000        3.100000   \n",
                            " 50%                13.800000      2743.000000        3.400000   \n",
                            " 75%                15.900000      6679.250000        3.800000   \n",
                            " max                27.000000    952335.000000        6.200000   \n",
                            " \n",
                            "        CKD_Lower 95% CI  CKD_Upper 95% CI     CKD_number  Urban_rural_code  \n",
                            " count       3140.000000       3140.000000    3140.000000       3140.000000  \n",
                            " mean           3.207516          3.710478    2466.234076          4.635350  \n",
                            " std            0.527740          0.613069    7730.422067          1.510447  \n",
                            " min            1.700000          1.900000       3.000000          1.000000  \n",
                            " 25%            2.900000          3.300000     314.750000          3.000000  \n",
                            " 50%            3.200000          3.700000     718.000000          5.000000  \n",
                            " 75%            3.500000          4.100000    1776.250000          6.000000  \n",
                            " max            5.800000          6.600000  237766.000000          6.000000  \n",
                            " \n",
                            " [8 rows x 106 columns])"
                        ]
                    },
                    "execution_count": 4,
                    "metadata": {},
                    "output_type": "execute_result"
                }
            ],
            "source": [
                "import pandas as pd\n",
                "\n",
                "# Cargar el conjunto de datos\n",
                "url = 'https://raw.githubusercontent.com/4GeeksAcademy/regularized-linear-regression-project-tutorial/main/demographic_health_data.csv'\n",
                "data = pd.read_csv(url)\n",
                "\n",
                "# Mostrar las primeras filas y la información del conjunto de datos\n",
                "data.head(), data.info(), data.describe()\n"
            ]
        }
    ],
    "metadata": {
        "kernelspec": {
            "display_name": "Python 3.8.13 64-bit ('3.8.13')",
            "language": "python",
            "name": "python3"
        },
        "language_info": {
            "codemirror_mode": {
                "name": "ipython",
                "version": 3
            },
            "file_extension": ".py",
            "mimetype": "text/x-python",
            "name": "python",
            "nbconvert_exporter": "python",
            "pygments_lexer": "ipython3",
            "version": "3.8.13"
        },
        "orig_nbformat": 4,
        "vscode": {
            "interpreter": {
                "hash": "110cc1dee26208153f2972f08a2ad52b6a56238dc66d48e87fb757ef2996db56"
            }
        }
    },
    "nbformat": 4,
    "nbformat_minor": 2
}
